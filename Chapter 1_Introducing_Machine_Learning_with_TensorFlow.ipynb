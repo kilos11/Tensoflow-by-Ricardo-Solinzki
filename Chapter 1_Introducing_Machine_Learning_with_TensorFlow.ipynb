{
  "nbformat": 4,
  "nbformat_minor": 0,
  "metadata": {
    "colab": {
      "provenance": [],
      "authorship_tag": "ABX9TyOOzQ5xM1W2I6uaQDJ+v1Wp",
      "include_colab_link": true
    },
    "kernelspec": {
      "name": "python3",
      "display_name": "Python 3"
    },
    "language_info": {
      "name": "python"
    }
  },
  "cells": [
    {
      "cell_type": "markdown",
      "metadata": {
        "id": "view-in-github",
        "colab_type": "text"
      },
      "source": [
        "<a href=\"https://colab.research.google.com/github/kilos11/Tensoflow-by-Ricardo-Solinzki/blob/main/Chapter%C2%A01_Introducing_Machine_Learning_with_TensorFlow.ipynb\" target=\"_parent\"><img src=\"https://colab.research.google.com/assets/colab-badge.svg\" alt=\"Open In Colab\"/></a>"
      ]
    },
    {
      "cell_type": "markdown",
      "source": [
        "## **Understanding Machine Learning**"
      ],
      "metadata": {
        "id": "T5yyAKSJaMV3"
      }
    },
    {
      "cell_type": "code",
      "execution_count": null,
      "metadata": {
        "colab": {
          "base_uri": "https://localhost:8080/"
        },
        "id": "2EZQMSZ6aKeu",
        "outputId": "2072578a-c62c-4887-9182-420b01ff2d4a"
      },
      "outputs": [
        {
          "output_type": "stream",
          "name": "stdout",
          "text": [
            "Requirement already satisfied: tensorflow in /usr/local/lib/python3.10/dist-packages (2.10.0)\n",
            "Requirement already satisfied: absl-py>=1.0.0 in /usr/local/lib/python3.10/dist-packages (from tensorflow) (1.4.0)\n",
            "Requirement already satisfied: astunparse>=1.6.0 in /usr/local/lib/python3.10/dist-packages (from tensorflow) (1.6.3)\n",
            "Requirement already satisfied: flatbuffers>=2.0 in /usr/local/lib/python3.10/dist-packages (from tensorflow) (23.5.26)\n",
            "Requirement already satisfied: gast<=0.4.0,>=0.2.1 in /usr/local/lib/python3.10/dist-packages (from tensorflow) (0.4.0)\n",
            "Requirement already satisfied: google-pasta>=0.1.1 in /usr/local/lib/python3.10/dist-packages (from tensorflow) (0.2.0)\n",
            "Requirement already satisfied: grpcio<2.0,>=1.24.3 in /usr/local/lib/python3.10/dist-packages (from tensorflow) (1.60.1)\n",
            "Requirement already satisfied: h5py>=2.9.0 in /usr/local/lib/python3.10/dist-packages (from tensorflow) (3.9.0)\n",
            "Requirement already satisfied: keras<2.11,>=2.10.0 in /usr/local/lib/python3.10/dist-packages (from tensorflow) (2.10.0)\n",
            "Requirement already satisfied: keras-preprocessing>=1.1.1 in /usr/local/lib/python3.10/dist-packages (from tensorflow) (1.1.2)\n",
            "Requirement already satisfied: libclang>=13.0.0 in /usr/local/lib/python3.10/dist-packages (from tensorflow) (16.0.6)\n",
            "Requirement already satisfied: numpy>=1.20 in /usr/local/lib/python3.10/dist-packages (from tensorflow) (1.25.2)\n",
            "Requirement already satisfied: opt-einsum>=2.3.2 in /usr/local/lib/python3.10/dist-packages (from tensorflow) (3.3.0)\n",
            "Requirement already satisfied: packaging in /usr/local/lib/python3.10/dist-packages (from tensorflow) (23.2)\n",
            "Requirement already satisfied: protobuf<3.20,>=3.9.2 in /usr/local/lib/python3.10/dist-packages (from tensorflow) (3.19.6)\n",
            "Requirement already satisfied: setuptools in /usr/local/lib/python3.10/dist-packages (from tensorflow) (67.7.2)\n",
            "Requirement already satisfied: six>=1.12.0 in /usr/local/lib/python3.10/dist-packages (from tensorflow) (1.16.0)\n",
            "Requirement already satisfied: tensorboard<2.11,>=2.10 in /usr/local/lib/python3.10/dist-packages (from tensorflow) (2.10.1)\n",
            "Requirement already satisfied: tensorflow-io-gcs-filesystem>=0.23.1 in /usr/local/lib/python3.10/dist-packages (from tensorflow) (0.36.0)\n",
            "Requirement already satisfied: tensorflow-estimator<2.11,>=2.10.0 in /usr/local/lib/python3.10/dist-packages (from tensorflow) (2.10.0)\n",
            "Requirement already satisfied: termcolor>=1.1.0 in /usr/local/lib/python3.10/dist-packages (from tensorflow) (2.4.0)\n",
            "Requirement already satisfied: typing-extensions>=3.6.6 in /usr/local/lib/python3.10/dist-packages (from tensorflow) (4.9.0)\n",
            "Requirement already satisfied: wrapt>=1.11.0 in /usr/local/lib/python3.10/dist-packages (from tensorflow) (1.14.1)\n",
            "Requirement already satisfied: wheel<1.0,>=0.23.0 in /usr/local/lib/python3.10/dist-packages (from astunparse>=1.6.0->tensorflow) (0.42.0)\n",
            "Requirement already satisfied: google-auth<3,>=1.6.3 in /usr/local/lib/python3.10/dist-packages (from tensorboard<2.11,>=2.10->tensorflow) (2.27.0)\n",
            "Requirement already satisfied: google-auth-oauthlib<0.5,>=0.4.1 in /usr/local/lib/python3.10/dist-packages (from tensorboard<2.11,>=2.10->tensorflow) (0.4.6)\n",
            "Requirement already satisfied: markdown>=2.6.8 in /usr/local/lib/python3.10/dist-packages (from tensorboard<2.11,>=2.10->tensorflow) (3.5.2)\n",
            "Requirement already satisfied: requests<3,>=2.21.0 in /usr/local/lib/python3.10/dist-packages (from tensorboard<2.11,>=2.10->tensorflow) (2.31.0)\n",
            "Requirement already satisfied: tensorboard-data-server<0.7.0,>=0.6.0 in /usr/local/lib/python3.10/dist-packages (from tensorboard<2.11,>=2.10->tensorflow) (0.6.1)\n",
            "Requirement already satisfied: tensorboard-plugin-wit>=1.6.0 in /usr/local/lib/python3.10/dist-packages (from tensorboard<2.11,>=2.10->tensorflow) (1.8.1)\n",
            "Requirement already satisfied: werkzeug>=1.0.1 in /usr/local/lib/python3.10/dist-packages (from tensorboard<2.11,>=2.10->tensorflow) (3.0.1)\n",
            "Requirement already satisfied: cachetools<6.0,>=2.0.0 in /usr/local/lib/python3.10/dist-packages (from google-auth<3,>=1.6.3->tensorboard<2.11,>=2.10->tensorflow) (5.3.2)\n",
            "Requirement already satisfied: pyasn1-modules>=0.2.1 in /usr/local/lib/python3.10/dist-packages (from google-auth<3,>=1.6.3->tensorboard<2.11,>=2.10->tensorflow) (0.3.0)\n",
            "Requirement already satisfied: rsa<5,>=3.1.4 in /usr/local/lib/python3.10/dist-packages (from google-auth<3,>=1.6.3->tensorboard<2.11,>=2.10->tensorflow) (4.9)\n",
            "Requirement already satisfied: requests-oauthlib>=0.7.0 in /usr/local/lib/python3.10/dist-packages (from google-auth-oauthlib<0.5,>=0.4.1->tensorboard<2.11,>=2.10->tensorflow) (1.3.1)\n",
            "Requirement already satisfied: charset-normalizer<4,>=2 in /usr/local/lib/python3.10/dist-packages (from requests<3,>=2.21.0->tensorboard<2.11,>=2.10->tensorflow) (3.3.2)\n",
            "Requirement already satisfied: idna<4,>=2.5 in /usr/local/lib/python3.10/dist-packages (from requests<3,>=2.21.0->tensorboard<2.11,>=2.10->tensorflow) (3.6)\n",
            "Requirement already satisfied: urllib3<3,>=1.21.1 in /usr/local/lib/python3.10/dist-packages (from requests<3,>=2.21.0->tensorboard<2.11,>=2.10->tensorflow) (2.0.7)\n",
            "Requirement already satisfied: certifi>=2017.4.17 in /usr/local/lib/python3.10/dist-packages (from requests<3,>=2.21.0->tensorboard<2.11,>=2.10->tensorflow) (2024.2.2)\n",
            "Requirement already satisfied: MarkupSafe>=2.1.1 in /usr/local/lib/python3.10/dist-packages (from werkzeug>=1.0.1->tensorboard<2.11,>=2.10->tensorflow) (2.1.5)\n",
            "Requirement already satisfied: pyasn1<0.6.0,>=0.4.6 in /usr/local/lib/python3.10/dist-packages (from pyasn1-modules>=0.2.1->google-auth<3,>=1.6.3->tensorboard<2.11,>=2.10->tensorflow) (0.5.1)\n",
            "Requirement already satisfied: oauthlib>=3.0.0 in /usr/local/lib/python3.10/dist-packages (from requests-oauthlib>=0.7.0->google-auth-oauthlib<0.5,>=0.4.1->tensorboard<2.11,>=2.10->tensorflow) (3.2.2)\n"
          ]
        }
      ],
      "source": [
        "!pip install tensorflow"
      ]
    },
    {
      "cell_type": "code",
      "source": [
        "import tensorflow as tf\n",
        "\n",
        "# Create tensor\n",
        "msg = tf.strings.join([\"Hello \", \"TensorFlow!\"])\n",
        "# Launch session\n",
        "sess = tf.compat.v1.Session()\n",
        "# Print tensor\n",
        "sess.run(tf.global_variables_initializer())\n",
        "print(sess.run(msg))"
      ],
      "metadata": {
        "id": "IFra1Wpub_mB"
      },
      "execution_count": null,
      "outputs": []
    },
    {
      "cell_type": "code",
      "source": [
        "t1 = tf.constant([1.5, 2.5, 3.5])\n",
        "t2 = tf.constant([['b', 'b'], ['b', 'b']])\n",
        "print(t1)\n",
        "print(t2)\n",
        "\n",
        "#zeros, ones, and fill\n",
        "zero_tensor = tf.zeros([3])\n",
        "print(zero_tensor)\n",
        "\n",
        "#the following function call creates a 4-x-4 matrix whose elements equal 1.0:\n",
        "one_tensor = tf.ones([4, 4])\n",
        "print(one_tensor)\n",
        "\n",
        "#The following code creates a three-dimensional tensor whose values are set to 81.0:\n",
        "fill_tensor = tf.fill([1, 2, 3], 81.0)\n",
        "print(fill_tensor)\n"
      ],
      "metadata": {
        "colab": {
          "base_uri": "https://localhost:8080/"
        },
        "id": "PxvQZxD4e5sA",
        "outputId": "1d5b9bc1-ba89-421c-fd15-b0579077009d"
      },
      "execution_count": null,
      "outputs": [
        {
          "output_type": "stream",
          "name": "stdout",
          "text": [
            "tf.Tensor([1.5 2.5 3.5], shape=(3,), dtype=float32)\n",
            "tf.Tensor(\n",
            "[[b'b' b'b']\n",
            " [b'b' b'b']], shape=(2, 2), dtype=string)\n",
            "tf.Tensor([0. 0. 0.], shape=(3,), dtype=float32)\n",
            "tf.Tensor(\n",
            "[[1. 1. 1. 1.]\n",
            " [1. 1. 1. 1.]\n",
            " [1. 1. 1. 1.]\n",
            " [1. 1. 1. 1.]], shape=(4, 4), dtype=float32)\n",
            "tf.Tensor(\n",
            "[[[81. 81. 81.]\n",
            "  [81. 81. 81.]]], shape=(1, 2, 3), dtype=float32)\n"
          ]
        }
      ]
    },
    {
      "cell_type": "markdown",
      "source": [
        "## **Creating sequences**"
      ],
      "metadata": {
        "id": "5cb--isGnpE7"
      }
    },
    {
      "cell_type": "code",
      "source": [
        "# the following code creates a 1-x-5 tensor whose elements range from 5.0 to 9.0:\n",
        "lin_tensor = tf.linspace(5., 9., 5)\n",
        "print(lin_tensor)\n",
        "\n",
        "\n",
        "#Unlike linspace, range doesn’t accept the number of elements in the tensor.\n",
        "#Instead, it computes successive elements by adding a value called a delta. In the\n",
        "#following code, delta is set to 0.5:\n",
        "range_tensor = tf.range(3., 7., delta=0.5)\n",
        "print(range_tensor)\n"
      ],
      "metadata": {
        "colab": {
          "base_uri": "https://localhost:8080/"
        },
        "id": "0K-PrCdXnt_P",
        "outputId": "91b0b1b4-9059-4f41-ba77-77863c4fec10"
      },
      "execution_count": null,
      "outputs": [
        {
          "output_type": "stream",
          "name": "stdout",
          "text": [
            "tf.Tensor([5. 6. 7. 8. 9.], shape=(5,), dtype=float32)\n",
            "tf.Tensor([3.  3.5 4.  4.5 5.  5.5 6.  6.5], shape=(8,), dtype=float32)\n"
          ]
        }
      ]
    },
    {
      "cell_type": "markdown",
      "source": [
        "## **Creating Tensors with Random Values**"
      ],
      "metadata": {
        "id": "v37f4l5bosO8"
      }
    },
    {
      "cell_type": "code",
      "source": [
        "#Creates a tensor with normally distributed values\n",
        "'''random_normal(shape, mean=0.0, stddev=1.0,\n",
        "dtype=tf.float32, seed=None, name=None)'''\n",
        "\n",
        "#Creates a tensor with normally distributed\n",
        "#values excluding those lying outside two\n",
        "#standard deviations\n",
        "'''truncated_normal(shape, mean=0.0, stddev=1.0,\n",
        "dtype=tf.float32, seed=None, name=None)'''\n",
        "\n",
        "#Creates a tensor with uniformly distributed\n",
        "#values between the minimum and maximum\n",
        "#values\n",
        "'''random_uniform(shape, minval=0, maxval=None,\n",
        "dtype=tf.float32, seed=None, name=None)'''\n",
        "\n",
        "\n",
        "#Shuffles a tensor along its first dimension\n",
        "'''random_shuffle(tensor, seed=None, name=None)'''\n",
        "\n",
        "#Set the seed value for all random number\n",
        "#generation in the graph\n",
        "'''set_random_seed(seed)'''\n",
        "\n",
        "#The following code calls random_normal to generate 20 random values:\n",
        "rnd_ints = tf.random_normal([10], dtype=tf.float64)\n",
        "print(rnd_ints)\n",
        "\n",
        "\n",
        "\n"
      ],
      "metadata": {
        "id": "pNgP0jZloyJg"
      },
      "execution_count": null,
      "outputs": []
    },
    {
      "cell_type": "markdown",
      "source": [
        "## **Transforming Tensors**\n",
        "\n",
        "### *Functions for Transforming Tensors*"
      ],
      "metadata": {
        "id": "K-nfzcSpsT8e"
      }
    },
    {
      "cell_type": "code",
      "source": [
        "#Changes the tensor’s data type to the given type\n",
        "'''cast(tensor, dtype, name=None)'''\n",
        "\n",
        "#Returns a tensor with the same elements as the given\n",
        "#tensor with the given shape\n",
        "'''reshape(tensor, shape, name=None)'''\n",
        "\n",
        "#Removes dimensions of size 1\n",
        "'''squeeze(tensor, axis=None, name=None,\n",
        "squeeze_dims=None)'''\n",
        "\n",
        "#Reverses given dimensions of the tensor\n",
        "'''reverse(tensor, axis, name=None)'''\n",
        "\n",
        "#Extracts a portion of a tensor\n",
        "'''slice(tensor, begin, size, name=None)'''\n",
        "\n",
        "#Combines a list of tensors into a tensor of greater rank\n",
        "'''stack(tensors, axis=0, name='stack')'''\n",
        "\n",
        "#Splits a tensor into a list of tensors of lesser rank\n",
        "'''unstack(tensor, num=None, axis=0,\n",
        "name='unstack')'''\n",
        "\n",
        "\n",
        "\n",
        "# the following code uses reshape to convert a four-element\n",
        "#vector into a 2-x-2 matrix:\n",
        "vec = tf.constant([1., 2., 3., 4.])\n",
        "mat = tf.reshape(vec, [2, 2])\n",
        "print(vec)\n",
        "print(mat)\n",
        "\n",
        "\n",
        "# Create a constant tensor\n",
        "mat = tf.constant([[1., 2., 3.], [4., 5., 6.]])\n",
        "# The tensor has shape (2, 3) and contains values from 1 to 6\n",
        "# Reverse the tensor along the first dimension\n",
        "rev_mat = tf.reverse(mat, [0])\n",
        "# The reverse operation flips the tensor along the first dimension (rows)\n",
        "# This will result in a new tensor with the rows reversed\n",
        "# Print the original tensor\n",
        "print(mat)\n",
        "# Print the reversed tensor\n",
        "print(rev_mat)\n",
        "\n",
        "\n",
        "rev_mat1 = tf.reverse(mat, [1])\n",
        "print(rev_mat1)\n",
        "\n",
        "rev_mat2 = tf.reverse(mat, [0, 1])\n",
        "print(rev_mat2)\n",
        "\n",
        "\n",
        "# Create a constant tensor\n",
        "mat = tf.constant([[1., 2., 3.], [4., 5., 6.], [7., 8., 9.]])\n",
        "# The tensor has shape (3, 3) and contains values from 1 to 9\n",
        "# Slice the tensor\n",
        "slice_mat = tf.slice(mat, [1, 1], [2, 2])\n",
        "# The slice starts at index [1, 1] and has a size of [2, 2]\n",
        "# This will extract a sub-tensor from the original tensor\n",
        "# Print the sliced tensor\n",
        "print(slice_mat)\n",
        "\n",
        "\n",
        "\n",
        "#The following code demonstrates how stack can be used. The function combines\n",
        "#three one-dimensional tensors into a two-dimensional tensor:\n",
        "t1 = tf.constant([1., 2.])\n",
        "t2 = tf.constant([3., 4.])\n",
        "t3 = tf.constant([5., 6.])\n",
        "t4 = tf.stack([t1, t2, t3])\n",
        "print(t1,t2,t3,t4)"
      ],
      "metadata": {
        "colab": {
          "base_uri": "https://localhost:8080/"
        },
        "id": "q_vOT72VsYBc",
        "outputId": "2ca23ec7-8d11-40e9-eace-cfa95e4276d5"
      },
      "execution_count": null,
      "outputs": [
        {
          "output_type": "stream",
          "name": "stdout",
          "text": [
            "tf.Tensor([1. 2. 3. 4.], shape=(4,), dtype=float32)\n",
            "tf.Tensor(\n",
            "[[1. 2.]\n",
            " [3. 4.]], shape=(2, 2), dtype=float32)\n",
            "tf.Tensor(\n",
            "[[1. 2. 3.]\n",
            " [4. 5. 6.]], shape=(2, 3), dtype=float32)\n",
            "tf.Tensor(\n",
            "[[4. 5. 6.]\n",
            " [1. 2. 3.]], shape=(2, 3), dtype=float32)\n",
            "tf.Tensor(\n",
            "[[3. 2. 1.]\n",
            " [6. 5. 4.]], shape=(2, 3), dtype=float32)\n",
            "tf.Tensor(\n",
            "[[6. 5. 4.]\n",
            " [3. 2. 1.]], shape=(2, 3), dtype=float32)\n",
            "tf.Tensor(\n",
            "[[5. 6.]\n",
            " [8. 9.]], shape=(2, 2), dtype=float32)\n",
            "tf.Tensor([1. 2.], shape=(2,), dtype=float32) tf.Tensor([3. 4.], shape=(2,), dtype=float32) tf.Tensor([5. 6.], shape=(2,), dtype=float32) tf.Tensor(\n",
            "[[1. 2.]\n",
            " [3. 4.]\n",
            " [5. 6.]], shape=(3, 2), dtype=float32)\n"
          ]
        }
      ]
    },
    {
      "cell_type": "markdown",
      "source": [
        "## **Creating Operations**"
      ],
      "metadata": {
        "id": "hKJZ7I0nywfm"
      }
    },
    {
      "cell_type": "code",
      "source": [
        "#The first four functions perform element-wise arithmetic. The following code\n",
        "#demonstrates how they work:\n",
        "a = tf.constant([3., 3., 3.])\n",
        "b = tf.constant([2., 2., 2.])\n",
        "sum = tf.add(a, b)\n",
        "diff = tf.subtract(a, b)\n",
        "prod = tf.multiply(a, b)\n",
        "quot = tf.divide(a, b)\n",
        "print(sum,diff,prod,quot)\n",
        "\n",
        "# The following code demonstrates the difference between them:\n",
        "a = tf.constant([3, 3, 3])\n",
        "b = tf.constant([2, 2, 2])\n",
        "div1 = tf.divide(a, b)\n",
        "div2 = a / b\n",
        "div3 = tf.divide(a, b)\n",
        "div4 = a // b\n",
        "print(div1,div2,div3,div4)\n",
        "\n"
      ],
      "metadata": {
        "colab": {
          "base_uri": "https://localhost:8080/"
        },
        "id": "80PWx7J2y5tX",
        "outputId": "185d9375-c758-4f5c-858d-aa2fb6e1b0a8"
      },
      "execution_count": null,
      "outputs": [
        {
          "output_type": "stream",
          "name": "stdout",
          "text": [
            "tf.Tensor([5. 5. 5.], shape=(3,), dtype=float32) tf.Tensor([1. 1. 1.], shape=(3,), dtype=float32) tf.Tensor([6. 6. 6.], shape=(3,), dtype=float32) tf.Tensor([1.5 1.5 1.5], shape=(3,), dtype=float32)\n",
            "tf.Tensor([1.5 1.5 1.5], shape=(3,), dtype=float64) tf.Tensor([1.5 1.5 1.5], shape=(3,), dtype=float64) tf.Tensor([1.5 1.5 1.5], shape=(3,), dtype=float64) tf.Tensor([1 1 1], shape=(3,), dtype=int32)\n",
            "tf.Tensor([16.], shape=(1,), dtype=float32) tf.Tensor([2.], shape=(1,), dtype=float32)\n"
          ]
        }
      ]
    },
    {
      "cell_type": "markdown",
      "source": [
        "##*#Rounding and comparison*"
      ],
      "metadata": {
        "id": "knQ9BxU541d8"
      }
    },
    {
      "cell_type": "code",
      "source": [
        "t = tf.constant([-6.5, -3.5, 3.5, 6.5])\n",
        "r1 = tf.round(t)\n",
        "r2 = tf.rint(t)\n",
        "r3 = tf.ceil(t)\n",
        "r4 = tf.floor(t)"
      ],
      "metadata": {
        "id": "jKB3IhOf4_SX"
      },
      "execution_count": null,
      "outputs": []
    },
    {
      "cell_type": "markdown",
      "source": [
        "##*#Exponents and logarithms*"
      ],
      "metadata": {
        "id": "e6RwAeTc5Hdp"
      }
    },
    {
      "cell_type": "code",
      "source": [
        "t = tf.constant([4.])\n",
        "t1 = tf.square(t)\n",
        "t2 = tf.sqrt(t)\n",
        "#t3 = tf.rsqrt(t)\n",
        "print(t1,t2)"
      ],
      "metadata": {
        "colab": {
          "base_uri": "https://localhost:8080/"
        },
        "id": "S5TqWgMv5QsQ",
        "outputId": "cb491d71-d0b5-4f45-ecf0-b4d7b1042e43"
      },
      "execution_count": null,
      "outputs": [
        {
          "output_type": "stream",
          "name": "stdout",
          "text": [
            "tf.Tensor([16.], shape=(1,), dtype=float32) tf.Tensor([2.], shape=(1,), dtype=float32)\n"
          ]
        }
      ]
    },
    {
      "cell_type": "markdown",
      "source": [
        "## *#Vector and matrix operations*"
      ],
      "metadata": {
        "id": "wpKl-XM35es-"
      }
    },
    {
      "cell_type": "code",
      "source": [
        "#Returns the sum of products for the elements\n",
        "#in the given axes\n",
        "'''tensordot(a, b, axes,\n",
        "name=None)'''\n",
        "\n",
        "#Returns the element-wise cross product\n",
        "'''cross(a, b, name=None)'''\n",
        "\n",
        "#Returns a matrix with the given diagonal\n",
        "#values, other values set to zero\n",
        "'''diag(diagonal, name=None)'''\n",
        "\n",
        "#Returns the sum of the diagonal elements\n",
        "'''trace(x, name=None)'''\n",
        "\n",
        "#Switches rows and columns\n",
        "'''transpose(x, perm=None,\n",
        " name='transpose')'''\n",
        "\n",
        "#Creates an identity matrix with the given\n",
        "#shape and data type\n",
        "'''eye(num_rows,\n",
        " num_columns=None,\n",
        " batch_shape=None,\n",
        " dtype=tf.float32,\n",
        " name=None)'''\n",
        "\n",
        " #Returns the product of the two input matrices\n",
        "'''matmul(a, b,\n",
        " transpose_a=False,\n",
        " transpose_b=False,\n",
        " adjoint_a=False,\n",
        " adjoint_b=False,\n",
        " a_is_sparse=False,\n",
        " b_is_sparse=False,\n",
        " name=None)'''\n",
        "\n",
        " #Returns the norm of the given axis of the\n",
        "#input tensor with the specified order\n",
        "'''norm(tensor,\n",
        " ord='euclidean',\n",
        " axis=None,\n",
        " keep_dims=False,\n",
        " name=None)'''\n",
        "\n",
        " #Returns the tensor x, such that Ax = b, where\n",
        "#A is a matrix, and b is a vector\n",
        "'''matrix_solve(A, b,\n",
        " adjoint=None,\n",
        " name=None)'''\n",
        "\n",
        " #Returns the eigenvectors and eigenvalues of\n",
        "#the given matrix or matrices\n",
        "'''qr(input, full_matrices=None,\n",
        " name=None)'''\n",
        "\n",
        " #Factors the matrix into a unitary matrix, a\n",
        "#diagonal matrix, and the conjugate transpose\n",
        "#of the unitary matrix\n",
        "'''svd(tensor,\n",
        " full_matrices=False,\n",
        " compute_uv=True,\n",
        " name=None)'''\n",
        "\n",
        " #Executes a custom mathematical operation\n",
        "'''einsum(equation, *inputs)'''\n",
        "\n",
        "\n",
        "#I frequently call tensordot to compute the dot product of two one-dimensional\n",
        "#tensors. The following code shows what this looks like:\n",
        "t1 = tf.constant([4., 3., 2.])\n",
        "t2 = tf.constant([3., 2., 1.])\n",
        "dot = tf.tensordot(t1, t2, 1)# 4*3 + 3*2 + 2*1 = 20\n",
        "print(dot)\n",
        "\n",
        "#matmul performs traditional matrix multiplication. That is, it multiplies rows of\n",
        "#the first tensor by columns of the second tensor and returns a matrix containing\n",
        "#the sums. The following code shows how this can be used:\n",
        "# Create two constant tensors\n",
        "t1 = tf.constant([[1.0, 2.0, 3.0], [4.0, 5.0, 6.0]])\n",
        "# The tensor t1 has shape (2, 3) and contains values from 1.0 to 6.0\n",
        "t2 = tf.constant([[1.0, 2.0], [3.0, 4.0], [5.0, 6.0]])\n",
        "# The tensor t2 has shape (3, 2) and contains values from 1.0 to 6.0\n",
        "# Perform matrix multiplication\n",
        "dot2 = tf.matmul(t1, t2)\n",
        "# The matmul function computes the dot product of two tensors,\n",
        "# resulting in a new tensor with shape (2, 2)\n",
        "# Print the result of matrix multiplication\n",
        "print(dot2)\n",
        "\n",
        "#The following code calls einsum to transpose a matrix and multiply two matrices\n",
        "#together:\n",
        "import tensorflow as tf\n",
        "# Create two constant matrices\n",
        "m1 = tf.constant([[1, 2], [3, 4]])\n",
        "# The matrix m1 has shape (2, 2) and contains values from 1 to 4\n",
        "m2 = tf.constant([[5, 6], [7, 8]])\n",
        "# The matrix m2 has shape (2, 2) and contains values from 5 to 8\n",
        "# Perform einsum operation to transpose m1\n",
        "e1 = tf.einsum('ij->ji', m1)\n",
        "# The einsum function performs a transpose operation on matrix m1,\n",
        "# resulting in a new matrix e1 with shape (2, 2) and transposed values\n",
        "# Perform einsum operation to matrix multiply m1 and m2\n",
        "e2 = tf.einsum('ij,jk->ik', m1, m2)\n",
        "# The einsum function performs matrix multiplication between m1 and m2,\n",
        "# resulting in a new matrix e2 with shape (2, 2) and the multiplied values\n",
        "# Print the transposed matrix\n",
        "print(e1)\n",
        "# Print the result of matrix multiplication\n",
        "print(e2)\n",
        "\n"
      ],
      "metadata": {
        "colab": {
          "base_uri": "https://localhost:8080/"
        },
        "id": "A1JYsCzj51oL",
        "outputId": "aae04c0d-d529-427a-ac95-825da2c6c433"
      },
      "execution_count": null,
      "outputs": [
        {
          "output_type": "stream",
          "name": "stdout",
          "text": [
            "tf.Tensor(20.0, shape=(), dtype=float32)\n",
            "tf.Tensor(\n",
            "[[22. 28.]\n",
            " [49. 64.]], shape=(2, 2), dtype=float32)\n",
            "tf.Tensor(\n",
            "[[1 3]\n",
            " [2 4]], shape=(2, 2), dtype=int32)\n",
            "tf.Tensor(\n",
            "[[19 22]\n",
            " [43 50]], shape=(2, 2), dtype=int32)\n"
          ]
        }
      ]
    },
    {
      "cell_type": "markdown",
      "source": [
        "## *Simple Mathematics Operations*"
      ],
      "metadata": {
        "id": "troq_glItp5k"
      }
    },
    {
      "cell_type": "code",
      "source": [
        "# Math with constant tensors\n",
        "const_a = tf.constant(3.6)\n",
        "const_b = tf.constant(1.2)\n",
        "total = const_a + const_b\n",
        "quot = tf.div(const_a, const_b)\n",
        "\n",
        "# Math with random tensors\n",
        "rand_a = tf.random_normal([3], 2.0)\n",
        "rand_b = tf.random_uniform([3], 1.0, 4.0)\n",
        "diff = tf.subtract(rand_a, rand_b)\n",
        "\n",
        "# Vector multiplication\n",
        "vec_a = tf.linspace(0.0, 3.0, 4)\n",
        "vec_b = tf.fill([4, 1], 2.0)\n",
        "prod = tf.multiply(vec_a, vec_b)\n",
        "dot = tf.tensordot(vec_a, vec_b, 1)\n",
        "\n",
        "# Matrix multiplication\n",
        "mat_a = tf.constant([[2, 3], [1, 2], [4, 5]])\n",
        "mat_b = tf.constant([[6, 4, 1], [3, 7, 2]])\n",
        "mat_prod = tf.matmul(mat_a, mat_b)\n",
        "\n",
        "# Execute the operations\n",
        "with tf.Session() as sess:\n",
        " print(\"Sum: %f\" % sess.run(total))\n",
        " print(\"Quotient: %f\" % sess.run(quot))\n",
        " print(\"Difference: \", sess.run(diff))\n",
        " print(\"Element-wise product: \", sess.run(prod))\n",
        " print(\"Dot product: \", sess.run(dot))\n",
        " print(\"Matrix product: \", sess.run(mat_prod))"
      ],
      "metadata": {
        "id": "aQChzqQMuBcm"
      },
      "execution_count": null,
      "outputs": []
    }
  ]
}